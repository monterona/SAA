{
  "cells": [
    {
      "cell_type": "markdown",
      "metadata": {
        "id": "QGsXv-q16e8r"
      },
      "source": [
        "# Notebook to download the materials\n",
        "\n",
        "Download this notebook and copy it to your google drive so you can modify it.\n",
        "\n",
        "This notebook will allow you to donwload the materials that you need to complete to pass the subject.\n",
        "\n",
        "## First, mount your google drive so that you can modify the activities that you download\n",
        "\n",
        "This notebook will download the materials from an online repository. It will save them into your google drive so that you can save the changes that you make. To do this, we mount your google drive with the following command. Be sure to agree to mount the drive into your **IES Polígono Sur** gmail account.  "
      ]
    },
    {
      "cell_type": "code",
      "execution_count": null,
      "metadata": {
        "colab": {
          "base_uri": "https://localhost:8080/"
        },
        "id": "XoT5NwZlcwQD",
        "outputId": "96f60ed7-41a6-4071-e360-5dcf7cf983d1"
      },
      "outputs": [],
      "source": [
        "# First, mount your google drive\n",
        "from google.colab import drive\n",
        "drive.mount(\"/content/drive\", force_remount=True)"
      ]
    },
    {
      "cell_type": "code",
      "execution_count": null,
      "metadata": {
        "colab": {
          "base_uri": "https://localhost:8080/"
        },
        "id": "1oc4wIjm94Kr",
        "outputId": "2dc9abb7-3354-4ea5-93cc-399d171f33fa"
      },
      "outputs": [],
      "source": [
        "from google.colab import drive\n",
        "drive.mount('/content/drive')"
      ]
    },
    {
      "cell_type": "markdown",
      "metadata": {
        "id": "D7uEcGBD8Occ"
      },
      "source": [
        "*Once* the drive is accessible for google colab, we move inside of your google drive."
      ]
    },
    {
      "cell_type": "code",
      "execution_count": null,
      "metadata": {
        "colab": {
          "base_uri": "https://localhost:8080/"
        },
        "id": "Q1eq3F4jdnvY",
        "outputId": "04b37fbb-27fa-47d2-cf8f-5e367fac9ec0"
      },
      "outputs": [],
      "source": [
        "# Move to the directtory that contains our google drive, into a folder called Colab_Notebooks!\n",
        "!ls"
      ]
    },
    {
      "cell_type": "code",
      "execution_count": null,
      "metadata": {
        "colab": {
          "base_uri": "https://localhost:8080/"
        },
        "id": "6bcEyjwSmfpb",
        "outputId": "c4cb6fc6-ca63-4864-dafe-403dc9a476f1"
      },
      "outputs": [],
      "source": [
        "cd /content/drive/MyDrive/Colab Notebooks"
      ]
    },
    {
      "cell_type": "code",
      "execution_count": null,
      "metadata": {
        "colab": {
          "base_uri": "https://localhost:8080/"
        },
        "id": "Jc6FOUVx6W13",
        "outputId": "caa191c1-bf3c-40c3-cba3-f0e6bbe74b88"
      },
      "outputs": [],
      "source": [
        "!ls"
      ]
    },
    {
      "cell_type": "code",
      "execution_count": null,
      "metadata": {
        "id": "I_uhQzt9eGrl"
      },
      "outputs": [],
      "source": [
        "# Check that we are in the correct folder\n",
        "# If this is not correct you may need to create the folder mentioned above\n",
        "!pwd"
      ]
    },
    {
      "cell_type": "markdown",
      "metadata": {
        "id": "cTkEEITqTocA"
      },
      "source": [
        "# Download the subject materials\n",
        "\n",
        "Here you can download the Notebooks with all the material of each unit of the subject. Remember that these notebooks contain much of the theory necessary to complete the practices and obtain the knowledge and skills required for the course."
      ]
    },
    {
      "cell_type": "code",
      "execution_count": null,
      "metadata": {
        "id": "uuDgv4RMXHwE"
      },
      "outputs": [],
      "source": [
        "# enter activity number\n",
        "unit_number = 3"
      ]
    },
    {
      "cell_type": "code",
      "execution_count": null,
      "metadata": {
        "id": "9wCxon-9XLTE"
      },
      "outputs": [],
      "source": [
        "    # Download\n",
        "!git clone https://github.com/monterona/SAA.git"
      ]
    }
  ],
  "metadata": {
    "colab": {
      "provenance": []
    },
    "kernelspec": {
      "display_name": "Python 3",
      "name": "python3"
    },
    "language_info": {
      "name": "python"
    }
  },
  "nbformat": 4,
  "nbformat_minor": 0
}
