{
  "nbformat": 4,
  "nbformat_minor": 0,
  "metadata": {
    "colab": {
      "provenance": []
    },
    "kernelspec": {
      "name": "python3",
      "display_name": "Python 3"
    },
    "language_info": {
      "name": "python"
    }
  },
  "cells": [
    {
      "cell_type": "markdown",
      "source": [
        "# Notebook to download the materials from PCD\n",
        "\n",
        "Download this notebook and copy it to your google drive so you can modify it.\n",
        "\n",
        "This notebook will allow you to donwload the materials that you need to complete to pass the subject.\n",
        "\n",
        "## First, mount your google drive so that you can modify the activities that you download\n",
        "\n",
        "This notebook will download the materials from an online repository. It will save them into your google drive so that you can save the changes that you make. To do this, we mount your google drive with the following command. Be sure to agree to mount the drive into your **IES Polígono Sur** gmail account.  "
      ],
      "metadata": {
        "id": "QGsXv-q16e8r"
      }
    },
    {
      "cell_type": "code",
      "execution_count": 2,
      "metadata": {
        "colab": {
          "base_uri": "https://localhost:8080/"
        },
        "id": "XoT5NwZlcwQD",
        "outputId": "96f60ed7-41a6-4071-e360-5dcf7cf983d1"
      },
      "outputs": [
        {
          "output_type": "stream",
          "name": "stdout",
          "text": [
            "Mounted at /content/drive\n"
          ]
        }
      ],
      "source": [
        "# First, mount your google drive\n",
        "from google.colab import drive\n",
        "drive.mount(\"/content/drive\", force_remount=True)"
      ]
    },
    {
      "cell_type": "code",
      "source": [
        "from google.colab import drive\n",
        "drive.mount('/content/drive')"
      ],
      "metadata": {
        "id": "1oc4wIjm94Kr",
        "outputId": "2dc9abb7-3354-4ea5-93cc-399d171f33fa",
        "colab": {
          "base_uri": "https://localhost:8080/"
        }
      },
      "execution_count": 3,
      "outputs": [
        {
          "output_type": "stream",
          "name": "stdout",
          "text": [
            "Drive already mounted at /content/drive; to attempt to forcibly remount, call drive.mount(\"/content/drive\", force_remount=True).\n"
          ]
        }
      ]
    },
    {
      "cell_type": "markdown",
      "source": [
        "*Once* the drive is accessible for google colab, we move inside of your google drive."
      ],
      "metadata": {
        "id": "D7uEcGBD8Occ"
      }
    },
    {
      "cell_type": "code",
      "source": [
        "# Move to the directtory that contains our google drive, into a folder called Colab_Notebooks!\n",
        "!ls"
      ],
      "metadata": {
        "colab": {
          "base_uri": "https://localhost:8080/"
        },
        "id": "Q1eq3F4jdnvY",
        "outputId": "04b37fbb-27fa-47d2-cf8f-5e367fac9ec0"
      },
      "execution_count": 4,
      "outputs": [
        {
          "output_type": "stream",
          "name": "stdout",
          "text": [
            "drive  sample_data\n"
          ]
        }
      ]
    },
    {
      "cell_type": "code",
      "source": [
        "cd /content/drive/MyDrive/Colab Notebooks"
      ],
      "metadata": {
        "colab": {
          "base_uri": "https://localhost:8080/"
        },
        "id": "6bcEyjwSmfpb",
        "outputId": "c4cb6fc6-ca63-4864-dafe-403dc9a476f1"
      },
      "execution_count": 7,
      "outputs": [
        {
          "output_type": "stream",
          "name": "stdout",
          "text": [
            "/content/drive/MyDrive/Colab Notebooks\n"
          ]
        }
      ]
    },
    {
      "cell_type": "code",
      "source": [
        "!ls"
      ],
      "metadata": {
        "colab": {
          "base_uri": "https://localhost:8080/"
        },
        "id": "Jc6FOUVx6W13",
        "outputId": "caa191c1-bf3c-40c3-cba3-f0e6bbe74b88"
      },
      "execution_count": 8,
      "outputs": [
        {
          "output_type": "stream",
          "name": "stdout",
          "text": [
            "'Aprendizaje Supervisado - Problema de Evaluación'   Untitled0.ipynb   Untitled3.ipynb\n",
            "'Descarga de materiales de Colab.ipynb'\t\t     Untitled1.ipynb   Untitled4.ipynb\n",
            " regresion-lineal-1.ipynb\t\t\t     Untitled2.ipynb\n"
          ]
        }
      ]
    },
    {
      "cell_type": "code",
      "source": [
        "# Check that we are in the correct folder\n",
        "# If this is not correct you may need to create the folder mentioned above\n",
        "!pwd"
      ],
      "metadata": {
        "id": "I_uhQzt9eGrl"
      },
      "execution_count": null,
      "outputs": []
    },
    {
      "cell_type": "markdown",
      "source": [
        "# Download the subject materials\n",
        "\n",
        "Here you can download the Notebooks with all the material of each unit of the subject. Remember that these notebooks contain much of the theory necessary to complete the practices and obtain the knowledge and skills required for the course.\n",
        "\n",
        "*Remember to create a folder to separate the materials from the activities and their solutions.*"
      ],
      "metadata": {
        "id": "cTkEEITqTocA"
      }
    },
    {
      "cell_type": "code",
      "source": [
        "# enter activity number\n",
        "unit_number = 3"
      ],
      "metadata": {
        "id": "uuDgv4RMXHwE"
      },
      "execution_count": null,
      "outputs": []
    },
    {
      "cell_type": "code",
      "source": [
        "    # Download\n",
        "!git clone https://gitlab.com/UOC/eimt/prog_datasci_2/resources/unit_{unit_number}.git"
      ],
      "metadata": {
        "id": "9wCxon-9XLTE"
      },
      "execution_count": null,
      "outputs": []
    },
    {
      "cell_type": "markdown",
      "source": [
        "# Donwload the activity from the online repository\n",
        "\n",
        "All that is left is downloading the activity. Choose the activity number (1,2,3 or 4) in the next cell and download it in the next one.\n",
        "\n",
        "*Remember to create a folder to separate the materials from the activities and their solutions.*"
      ],
      "metadata": {
        "id": "M6UgHZdB8VoM"
      }
    },
    {
      "cell_type": "code",
      "source": [
        "# enter activity number\n",
        "activity_number = 1"
      ],
      "metadata": {
        "id": "IbBzlVWZUJkg"
      },
      "execution_count": null,
      "outputs": []
    },
    {
      "cell_type": "code",
      "source": [
        "# Download\n",
        "!git clone https://gitlab.com/UOC/eimt/prog_datasci_2/activities/Activity_{activity_number}.git"
      ],
      "metadata": {
        "id": "tjgTxoKVfOoH"
      },
      "execution_count": null,
      "outputs": []
    },
    {
      "cell_type": "markdown",
      "source": [
        "You can now find your activity in the folder that you have indicated, within a subfolder called \"activity_i\" where i is the activity number. Remember to save your work frequently and submit your work when you are done in the proper \"activity\" tab in UOC's webpage."
      ],
      "metadata": {
        "id": "xc_fqAiS6cMY"
      }
    },
    {
      "cell_type": "markdown",
      "source": [
        "# Download practice solution\n",
        "\n",
        "Two weeks after the final date of delivery of the practical, the download of the solution of the practical will be enabled.\n",
        "\n",
        "*Remember to create a folder to separate the materials from the activities and their solutions.*"
      ],
      "metadata": {
        "id": "KtHkKFdP6YGd"
      }
    },
    {
      "cell_type": "code",
      "source": [
        "# enter activity number\n",
        "activity_number = 1"
      ],
      "metadata": {
        "id": "X5hl_R-36tkI"
      },
      "execution_count": null,
      "outputs": []
    },
    {
      "cell_type": "code",
      "source": [
        "# Download\n",
        "!git clone https://gitlab.com/UOC/eimt/prog_datasci_2/activities/activity_sol_{activity_number}.git"
      ],
      "metadata": {
        "id": "7zm56OFS6vFz"
      },
      "execution_count": null,
      "outputs": []
    }
  ]
}